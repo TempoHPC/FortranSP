{
  "nbformat": 4,
  "nbformat_minor": 0,
  "metadata": {
    "colab": {
      "provenance": [],
      "machine_shape": "hm",
      "gpuType": "V100",
      "include_colab_link": true
    },
    "kernelspec": {
      "name": "python3",
      "display_name": "Python 3"
    },
    "language_info": {
      "name": "python"
    },
    "accelerator": "GPU",
    "gpuClass": "standard"
  },
  "cells": [
    {
      "cell_type": "markdown",
      "metadata": {
        "id": "view-in-github",
        "colab_type": "text"
      },
      "source": [
        "<a href=\"https://colab.research.google.com/github/TempoHPC/FortranSP/blob/main/notebook/english/DoConcurrent_Examples.ipynb\" target=\"_parent\"><img src=\"https://colab.research.google.com/assets/colab-badge.svg\" alt=\"Open In Colab\"/></a>"
      ]
    },
    {
      "cell_type": "markdown",
      "source": [
        "# **INVMULTIFIS Project: Development of multi-physics data inversion software with optimization via artificial intelligence**\n",
        "\n",
        "The project proposes the development of an innovative inversion technology for the characterization and monitoring of deep water reservoirs for Petrobras (the Brazilian Oil Company) using CSEM (Controlled-Source Electromagnetic Methods), a robust risk reduction tool in the drilling of oil basins, using multiphysics data in the 3D domain. One of the main objectives of this project is to develop, optimize and parallelize CSEM codes, aiming at improving their performance."
      ],
      "metadata": {
        "id": "ND2kYHItEyQr"
      }
    },
    {
      "cell_type": "markdown",
      "source": [
        "## Donwload and install NVIDIA HPC SDK"
      ],
      "metadata": {
        "id": "n8mICxHdmRKh"
      }
    },
    {
      "cell_type": "code",
      "source": [
        "%%time\n",
        "# Downloading and installing deb packages. This will take 5 minutes.\n",
        "! curl https://developer.download.nvidia.com/hpc-sdk/ubuntu/DEB-GPG-KEY-NVIDIA-HPC-SDK | sudo gpg --dearmor -o /usr/share/keyrings/nvidia-hpcsdk-archive-keyring.gpg\n",
        "! echo 'deb [signed-by=/usr/share/keyrings/nvidia-hpcsdk-archive-keyring.gpg] https://developer.download.nvidia.com/hpc-sdk/ubuntu/amd64 /' | sudo tee /etc/apt/sources.list.d/nvhpc.list\n",
        "! sudo apt-get update -y\n",
        "! sudo apt-get install -y nvhpc-22-11"
      ],
      "metadata": {
        "id": "iv_6sBm1vZ6u",
        "colab": {
          "base_uri": "https://localhost:8080/"
        },
        "outputId": "7b2f80e9-cebe-42b7-bba2-05b0222c19e3"
      },
      "execution_count": 1,
      "outputs": [
        {
          "output_type": "stream",
          "name": "stdout",
          "text": [
            "  % Total    % Received % Xferd  Average Speed   Time    Time     Time  Current\n",
            "                                 Dload  Upload   Total   Spent    Left  Speed\n",
            "\r  0     0    0     0    0     0      0      0 --:--:-- --:--:-- --:--:--     0\r100  1626  100  1626    0     0   6302      0 --:--:-- --:--:-- --:--:--  6302\n",
            "deb [signed-by=/usr/share/keyrings/nvidia-hpcsdk-archive-keyring.gpg] https://developer.download.nvidia.com/hpc-sdk/ubuntu/amd64 /\n",
            "Get:1 https://cloud.r-project.org/bin/linux/ubuntu focal-cran40/ InRelease [3,622 B]\n",
            "Hit:2 https://developer.download.nvidia.com/compute/cuda/repos/ubuntu2004/x86_64  InRelease\n",
            "Get:3 https://developer.download.nvidia.com/hpc-sdk/ubuntu/amd64  InRelease [2,126 B]\n",
            "Get:4 https://developer.download.nvidia.com/hpc-sdk/ubuntu/amd64  Packages [10.9 kB]\n",
            "Get:5 http://security.ubuntu.com/ubuntu focal-security InRelease [114 kB]\n",
            "Hit:6 http://archive.ubuntu.com/ubuntu focal InRelease\n",
            "Hit:7 http://ppa.launchpad.net/c2d4u.team/c2d4u4.0+/ubuntu focal InRelease\n",
            "Get:8 http://archive.ubuntu.com/ubuntu focal-updates InRelease [114 kB]\n",
            "Hit:9 http://ppa.launchpad.net/cran/libgit2/ubuntu focal InRelease\n",
            "Hit:10 http://ppa.launchpad.net/deadsnakes/ppa/ubuntu focal InRelease\n",
            "Get:11 http://archive.ubuntu.com/ubuntu focal-backports InRelease [108 kB]\n",
            "Get:12 http://archive.ubuntu.com/ubuntu focal-updates/main amd64 Packages [3,299 kB]\n",
            "Hit:13 http://ppa.launchpad.net/graphics-drivers/ppa/ubuntu focal InRelease\n",
            "Hit:14 http://ppa.launchpad.net/ubuntugis/ppa/ubuntu focal InRelease\n",
            "Get:15 http://archive.ubuntu.com/ubuntu focal-updates/universe amd64 Packages [1,360 kB]\n",
            "Fetched 5,012 kB in 3s (1,649 kB/s)\n",
            "Reading package lists... Done\n",
            "Reading package lists... Done\n",
            "Building dependency tree       \n",
            "Reading state information... Done\n",
            "The following additional packages will be installed:\n",
            "  nvhpc-2022\n",
            "The following NEW packages will be installed:\n",
            "  nvhpc-2022 nvhpc-22-11\n",
            "0 upgraded, 2 newly installed, 0 to remove and 13 not upgraded.\n",
            "Need to get 3,098 MB of archives.\n",
            "After this operation, 11.3 GB of additional disk space will be used.\n",
            "Get:1 https://developer.download.nvidia.com/hpc-sdk/ubuntu/amd64  nvhpc-22-11 22.11 [3,098 MB]\n",
            "Get:2 https://developer.download.nvidia.com/hpc-sdk/ubuntu/amd64  nvhpc-2022 22.11 [1,206 B]\n",
            "Fetched 3,098 MB in 25s (125 MB/s)\n",
            "debconf: unable to initialize frontend: Dialog\n",
            "debconf: (No usable dialog-like program is installed, so the dialog based frontend cannot be used. at /usr/share/perl5/Debconf/FrontEnd/Dialog.pm line 76, <> line 2.)\n",
            "debconf: falling back to frontend: Readline\n",
            "debconf: unable to initialize frontend: Readline\n",
            "debconf: (This frontend requires a controlling tty.)\n",
            "debconf: falling back to frontend: Teletype\n",
            "dpkg-preconfigure: unable to re-open stdin: \n",
            "Selecting previously unselected package nvhpc-22-11.\n",
            "(Reading database ... 123069 files and directories currently installed.)\n",
            "Preparing to unpack .../nvhpc-22-11_22.11_amd64.deb ...\n",
            "Unpacking nvhpc-22-11 (22.11) ...\n",
            "Selecting previously unselected package nvhpc-2022.\n",
            "Preparing to unpack .../nvhpc-2022_22.11_amd64.deb ...\n",
            "Unpacking nvhpc-2022 (22.11) ...\n",
            "Setting up nvhpc-2022 (22.11) ...\n",
            "Setting up nvhpc-22-11 (22.11) ...\n",
            "CPU times: user 1.48 s, sys: 162 ms, total: 1.64 s\n",
            "Wall time: 4min 23s\n"
          ]
        }
      ]
    },
    {
      "cell_type": "markdown",
      "source": [
        "## Install `environment-modules` package to load `nvhpc`"
      ],
      "metadata": {
        "id": "Qu9UwS4Pme8h"
      }
    },
    {
      "cell_type": "code",
      "source": [
        "%%bash\n",
        "apt install environment-modules"
      ],
      "metadata": {
        "id": "F0CRfGnjvgyO"
      },
      "execution_count": null,
      "outputs": []
    },
    {
      "cell_type": "markdown",
      "source": [
        "## Loading `nvhpc` and run `nvaccelinfo` command"
      ],
      "metadata": {
        "id": "ffug2Yfkmuug"
      }
    },
    {
      "cell_type": "markdown",
      "metadata": {
        "id": "hcphTrlvvJkH"
      },
      "source": [
        "---\n",
        "Let's execute the cell below to display information about the GPUs running on the server by running the `nvaccelinfo` command, which ships with the NVIDIA HPC compiler that we will be using. To do this, execute the cell block below by giving it focus (clicking on it with your mouse), and hitting Ctrl-Enter, or pressing the play button in the toolbar above.  If all goes well, you should see some output returned below the grey cell."
      ]
    },
    {
      "cell_type": "code",
      "source": [
        "%%bash\n",
        "source /usr/share/modules/init/bash\n",
        "module use /opt/nvidia/hpc_sdk/modulefiles\n",
        "module load nvhpc/22.11\n",
        "nvaccelinfo"
      ],
      "metadata": {
        "id": "1Z_6ReluxYdo"
      },
      "execution_count": null,
      "outputs": []
    },
    {
      "cell_type": "markdown",
      "metadata": {
        "id": "8dDXsd4rvJkJ"
      },
      "source": [
        "The output of the above command will vary according to which GPUs you have in your system. For example, if you are running the lab on a machine with NVIDIA Tesla V100 GPUs, you might would see the following:\n",
        "\n",
        "```\n",
        "CUDA Driver Version:           10010\n",
        "NVRM version:                  NVIDIA UNIX x86_64 Kernel Module  418.87.01  Wed Sep 25 06:00:38 UTC 2019\n",
        "\n",
        "Device Number:                 0\n",
        "Device Name:                   Tesla V100-SXM2-16GB\n",
        "Device Revision Number:        7.0\n",
        "Global Memory Size:            16914055168\n",
        "Number of Multiprocessors:     80\n",
        "Concurrent Copy and Execution: Yes\n",
        "Total Constant Memory:         65536\n",
        "Total Shared Memory per Block: 49152\n",
        "Registers per Block:           65536\n",
        "Warp Size:                     32\n",
        "Maximum Threads per Block:     1024\n",
        "Maximum Block Dimensions:      1024, 1024, 64\n",
        "Maximum Grid Dimensions:       2147483647 x 65535 x 65535\n",
        "Maximum Memory Pitch:          2147483647B\n",
        "Texture Alignment:             512B\n",
        "Clock Rate:                    1530 MHz\n",
        "Execution Timeout:             No\n",
        "Integrated Device:             No\n",
        "Can Map Host Memory:           Yes\n",
        "Compute Mode:                  default\n",
        "Concurrent Kernels:            Yes\n",
        "ECC Enabled:                   Yes\n",
        "Memory Clock Rate:             877 MHz\n",
        "Memory Bus Width:              4096 bits\n",
        "L2 Cache Size:                 6291456 bytes\n",
        "Max Threads Per SMP:           2048\n",
        "Async Engines:                 6\n",
        "Unified Addressing:            Yes\n",
        "Managed Memory:                Yes\n",
        "Concurrent Managed Memory:     Yes\n",
        "Preemption Supported:          Yes\n",
        "Cooperative Launch:            Yes\n",
        "  Multi-Device:                Yes\n",
        "Default Target:            -ta=tesla:cc70\n",
        "```\n",
        "\n",
        "This gives us lots of details about the GPU, for instance the device number, the type of device, and at the very bottom the command line argument we should use when targeting this GPU (see *_NVIDIA HPC Compiler Option_*). We will use this command line option a bit later to build for our GPU."
      ]
    },
    {
      "cell_type": "markdown",
      "source": [
        "# Steps to install CSEM3D program"
      ],
      "metadata": {
        "id": "kmLuqCjxcuSh"
      }
    },
    {
      "cell_type": "markdown",
      "source": [
        "### Installing GNU Make v4.3 to correct deal with CSEM3D `makefile`"
      ],
      "metadata": {
        "id": "8tYlZFTsgWUl"
      }
    },
    {
      "cell_type": "code",
      "source": [
        "%%bash\n",
        "wget https://ftp.gnu.org/gnu/make/make-4.3.tar.gz\n",
        "tar xfz make-4.3.tar.gz"
      ],
      "metadata": {
        "id": "6HlBN7NR61Cw"
      },
      "execution_count": null,
      "outputs": []
    },
    {
      "cell_type": "code",
      "source": [
        "%%bash\n",
        "cd make-4.3\n",
        "./configure\n",
        "make\n",
        "make install"
      ],
      "metadata": {
        "id": "Wypy9Zi3AKYE"
      },
      "execution_count": null,
      "outputs": []
    },
    {
      "cell_type": "code",
      "source": [
        "%%bash\n",
        "make -v"
      ],
      "metadata": {
        "id": "-y-pfI7whQPg"
      },
      "execution_count": null,
      "outputs": []
    },
    {
      "cell_type": "markdown",
      "source": [
        "##   Creating user, once OpenMPI does not recommend run MPI with `root` user\n",
        "\n"
      ],
      "metadata": {
        "id": "ZauSBltE7BRz"
      }
    },
    {
      "cell_type": "code",
      "source": [
        "%%bash\n",
        "adduser csem"
      ],
      "metadata": {
        "id": "OpsXjBevpynC"
      },
      "execution_count": null,
      "outputs": []
    },
    {
      "cell_type": "code",
      "source": [
        "%%bash\n",
        "su csem\n",
        "source /usr/share/modules/init/bash\n",
        "module use /opt/nvidia/hpc_sdk/modulefiles\n",
        "module load nvhpc/22.11"
      ],
      "metadata": {
        "id": "-i2uvTwR1MhC"
      },
      "execution_count": null,
      "outputs": []
    },
    {
      "cell_type": "markdown",
      "source": [
        "https://t-redactyl.io/blog/2020/01/using-jupyter-to-learn-fortran.html\n",
        "\n",
        "https://pypi.org/project/fortran-magic/"
      ],
      "metadata": {
        "id": "k5Gvwx63ECox"
      }
    },
    {
      "cell_type": "code",
      "source": [
        "%%bash\n",
        "\n",
        "ls /opt/nvidia/hpc_sdk/Linux_x86_64/22.11/examples/stdpar/saxpy/saxpy.f90"
      ],
      "metadata": {
        "id": "pEZ9YAi9IH2t",
        "outputId": "d187bb5c-94b1-452d-8fc5-b79fd01b3464",
        "colab": {
          "base_uri": "https://localhost:8080/"
        }
      },
      "execution_count": 8,
      "outputs": [
        {
          "output_type": "stream",
          "name": "stdout",
          "text": [
            "/opt/nvidia/hpc_sdk/Linux_x86_64/22.11/examples/stdpar/saxpy/saxpy.f90\n"
          ]
        }
      ]
    },
    {
      "cell_type": "code",
      "source": [
        "ls /examples/stdpar/jacobi/jacobi.f90.\n",
        "\n"
      ],
      "metadata": {
        "id": "foktes-2IkVm"
      },
      "execution_count": null,
      "outputs": []
    },
    {
      "cell_type": "code",
      "source": [
        "%%writefile saxpy.f90\n",
        "\n",
        "subroutine saxpy(x,y,n,a)\n",
        "   real :: a, x(:), y(:)\n",
        "   integer :: n, i\n",
        "   do concurrent (i = 1: n)\n",
        "      y(i) = a*x(i)+y(i)\n",
        "   enddo\n",
        "end subroutine saxpy"
      ],
      "metadata": {
        "id": "uXmnKFSdG3YI"
      },
      "execution_count": null,
      "outputs": []
    }
  ]
}