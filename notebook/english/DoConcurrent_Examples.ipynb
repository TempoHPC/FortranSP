{
  "nbformat": 4,
  "nbformat_minor": 0,
  "metadata": {
    "colab": {
      "provenance": [],
      "machine_shape": "hm",
      "gpuType": "V100",
      "include_colab_link": true
    },
    "kernelspec": {
      "name": "python3",
      "display_name": "Python 3"
    },
    "language_info": {
      "name": "python"
    },
    "accelerator": "GPU",
    "gpuClass": "standard"
  },
  "cells": [
    {
      "cell_type": "markdown",
      "metadata": {
        "id": "view-in-github",
        "colab_type": "text"
      },
      "source": [
        "<a href=\"https://colab.research.google.com/github/TempoHPC/FortranSP/blob/main/notebook/english/DoConcurrent_Examples.ipynb\" target=\"_parent\"><img src=\"https://colab.research.google.com/assets/colab-badge.svg\" alt=\"Open In Colab\"/></a>"
      ]
    },
    {
      "cell_type": "markdown",
      "source": [
        "# **INVMULTIFIS Project: Development of multi-physics data inversion software with optimization via artificial intelligence**\n",
        "\n",
        "The project proposes the development of an innovative inversion technology for the characterization and monitoring of deep water reservoirs for Petrobras (the Brazilian Oil Company) using CSEM (Controlled-Source Electromagnetic Methods), a robust risk reduction tool in the drilling of oil basins, using multiphysics data in the 3D domain. One of the main objectives of this project is to develop, optimize and parallelize CSEM codes, aiming at improving their performance."
      ],
      "metadata": {
        "id": "ND2kYHItEyQr"
      }
    },
    {
      "cell_type": "markdown",
      "source": [
        "## Donwload and install NVIDIA HPC SDK"
      ],
      "metadata": {
        "id": "n8mICxHdmRKh"
      }
    },
    {
      "cell_type": "code",
      "source": [
        "%%time\n",
        "# Downloading and installing deb packages. This will take 5 minutes.\n",
        "! curl https://developer.download.nvidia.com/hpc-sdk/ubuntu/DEB-GPG-KEY-NVIDIA-HPC-SDK | sudo gpg --dearmor -o /usr/share/keyrings/nvidia-hpcsdk-archive-keyring.gpg\n",
        "! echo 'deb [signed-by=/usr/share/keyrings/nvidia-hpcsdk-archive-keyring.gpg] https://developer.download.nvidia.com/hpc-sdk/ubuntu/amd64 /' | sudo tee /etc/apt/sources.list.d/nvhpc.list\n",
        "! sudo apt-get update -y\n",
        "! sudo apt-get install -y nvhpc-22-11"
      ],
      "metadata": {
        "id": "iv_6sBm1vZ6u"
      },
      "execution_count": null,
      "outputs": []
    },
    {
      "cell_type": "markdown",
      "source": [
        "## Install `environment-modules` package to load `nvhpc`"
      ],
      "metadata": {
        "id": "Qu9UwS4Pme8h"
      }
    },
    {
      "cell_type": "code",
      "source": [
        "%%bash\n",
        "apt install environment-modules"
      ],
      "metadata": {
        "id": "F0CRfGnjvgyO"
      },
      "execution_count": null,
      "outputs": []
    },
    {
      "cell_type": "markdown",
      "source": [
        "## Loading `nvhpc` and run `nvaccelinfo` command"
      ],
      "metadata": {
        "id": "ffug2Yfkmuug"
      }
    },
    {
      "cell_type": "markdown",
      "metadata": {
        "id": "hcphTrlvvJkH"
      },
      "source": [
        "---\n",
        "Let's execute the cell below to display information about the GPUs running on the server by running the `nvaccelinfo` command, which ships with the NVIDIA HPC compiler that we will be using. To do this, execute the cell block below by giving it focus (clicking on it with your mouse), and hitting Ctrl-Enter, or pressing the play button in the toolbar above.  If all goes well, you should see some output returned below the grey cell."
      ]
    },
    {
      "cell_type": "code",
      "source": [
        "%%bash\n",
        "source /usr/share/modules/init/bash\n",
        "module use /opt/nvidia/hpc_sdk/modulefiles\n",
        "module load nvhpc/22.11\n",
        "nvaccelinfo"
      ],
      "metadata": {
        "id": "1Z_6ReluxYdo"
      },
      "execution_count": null,
      "outputs": []
    },
    {
      "cell_type": "markdown",
      "metadata": {
        "id": "8dDXsd4rvJkJ"
      },
      "source": [
        "The output of the above command will vary according to which GPUs you have in your system. For example, if you are running the lab on a machine with NVIDIA Tesla V100 GPUs, you might would see the following:\n",
        "\n",
        "```\n",
        "CUDA Driver Version:           10010\n",
        "NVRM version:                  NVIDIA UNIX x86_64 Kernel Module  418.87.01  Wed Sep 25 06:00:38 UTC 2019\n",
        "\n",
        "Device Number:                 0\n",
        "Device Name:                   Tesla V100-SXM2-16GB\n",
        "Device Revision Number:        7.0\n",
        "Global Memory Size:            16914055168\n",
        "Number of Multiprocessors:     80\n",
        "Concurrent Copy and Execution: Yes\n",
        "Total Constant Memory:         65536\n",
        "Total Shared Memory per Block: 49152\n",
        "Registers per Block:           65536\n",
        "Warp Size:                     32\n",
        "Maximum Threads per Block:     1024\n",
        "Maximum Block Dimensions:      1024, 1024, 64\n",
        "Maximum Grid Dimensions:       2147483647 x 65535 x 65535\n",
        "Maximum Memory Pitch:          2147483647B\n",
        "Texture Alignment:             512B\n",
        "Clock Rate:                    1530 MHz\n",
        "Execution Timeout:             No\n",
        "Integrated Device:             No\n",
        "Can Map Host Memory:           Yes\n",
        "Compute Mode:                  default\n",
        "Concurrent Kernels:            Yes\n",
        "ECC Enabled:                   Yes\n",
        "Memory Clock Rate:             877 MHz\n",
        "Memory Bus Width:              4096 bits\n",
        "L2 Cache Size:                 6291456 bytes\n",
        "Max Threads Per SMP:           2048\n",
        "Async Engines:                 6\n",
        "Unified Addressing:            Yes\n",
        "Managed Memory:                Yes\n",
        "Concurrent Managed Memory:     Yes\n",
        "Preemption Supported:          Yes\n",
        "Cooperative Launch:            Yes\n",
        "  Multi-Device:                Yes\n",
        "Default Target:            -ta=tesla:cc70\n",
        "```\n",
        "\n",
        "This gives us lots of details about the GPU, for instance the device number, the type of device, and at the very bottom the command line argument we should use when targeting this GPU (see *_NVIDIA HPC Compiler Option_*). We will use this command line option a bit later to build for our GPU."
      ]
    },
    {
      "cell_type": "markdown",
      "source": [
        "# Steps to install CSEM3D program"
      ],
      "metadata": {
        "id": "kmLuqCjxcuSh"
      }
    },
    {
      "cell_type": "markdown",
      "source": [
        "### Installing GNU Make v4.3 to correct deal with CSEM3D `makefile`"
      ],
      "metadata": {
        "id": "8tYlZFTsgWUl"
      }
    },
    {
      "cell_type": "code",
      "source": [
        "%%bash\n",
        "wget https://ftp.gnu.org/gnu/make/make-4.3.tar.gz\n",
        "tar xfz make-4.3.tar.gz"
      ],
      "metadata": {
        "id": "6HlBN7NR61Cw"
      },
      "execution_count": null,
      "outputs": []
    },
    {
      "cell_type": "code",
      "source": [
        "%%bash\n",
        "cd make-4.3\n",
        "./configure\n",
        "make\n",
        "make install"
      ],
      "metadata": {
        "id": "Wypy9Zi3AKYE"
      },
      "execution_count": null,
      "outputs": []
    },
    {
      "cell_type": "code",
      "source": [
        "%%bash\n",
        "make -v"
      ],
      "metadata": {
        "id": "-y-pfI7whQPg"
      },
      "execution_count": null,
      "outputs": []
    },
    {
      "cell_type": "markdown",
      "source": [
        "##   Creating user, once OpenMPI does not recommend run MPI with `root` user\n",
        "\n"
      ],
      "metadata": {
        "id": "ZauSBltE7BRz"
      }
    },
    {
      "cell_type": "code",
      "source": [
        "%%bash\n",
        "adduser csem"
      ],
      "metadata": {
        "id": "OpsXjBevpynC"
      },
      "execution_count": null,
      "outputs": []
    },
    {
      "cell_type": "code",
      "source": [
        "%%bash\n",
        "su csem\n",
        "source /usr/share/modules/init/bash\n",
        "module use /opt/nvidia/hpc_sdk/modulefiles\n",
        "module load nvhpc/22.11\n",
        "\n"
      ],
      "metadata": {
        "id": "-i2uvTwR1MhC"
      },
      "execution_count": null,
      "outputs": []
    }
  ]
}